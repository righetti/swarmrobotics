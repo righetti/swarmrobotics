{
 "cells": [
  {
   "cell_type": "markdown",
   "metadata": {},
   "source": [
    "# Exercise 1: directed and switching graphs"
   ]
  },
  {
   "cell_type": "code",
   "execution_count": 1,
   "metadata": {},
   "outputs": [],
   "source": [
    "# header to start\n",
    "%matplotlib notebook\n",
    "\n",
    "import numpy as np\n",
    "import matplotlib.pyplot as plt\n",
    "\n",
    "import scipy.linalg\n",
    "\n",
    "import pickle"
   ]
  },
  {
   "cell_type": "markdown",
   "metadata": {},
   "source": [
    "You are given four examples of sets of four **directed** graphs:\n",
    "* In the first example, contained in the directory Exercise1_Graph10a, all the graphs contain 10 vertices\n",
    "* In the second example, contained in the directory Exercise1_Graph10b, all the graphs contain 10 vertices\n",
    "* In the third example, contained in the directory Exercise1_Graph100a, all the graphs contain 100 vertices\n",
    "* In the last example, contained in the directory Exercise1_Graph100b, all the graphs contain 100 vertices\n",
    "\n",
    "The following code can be used to load each graph and compute its Laplacian."
   ]
  },
  {
   "cell_type": "code",
   "execution_count": 6,
   "metadata": {},
   "outputs": [],
   "source": [
    "# to load the list of edges from file, you can do the following\n",
    "with open('Exercise1_Graph10a/graph1.pickle', 'rb') as f:\n",
    "    E1 = pickle.load(f)\n",
    "\n",
    "# the laplacian can then be found using\n",
    "# L = getLaplacian(E, 10, directed=True)\n",
    "\n",
    "# note that it is possible to find the eigenvalues of a function using the function\n",
    "# https://docs.scipy.org/doc/numpy/reference/generated/numpy.linalg.eigvals.html\n",
    "# np.linalg.eigvals()\n",
    "\n",
    "# it is possible to sort an array of numbers using\n",
    "# https://docs.scipy.org/doc/numpy/reference/generated/numpy.sort.html\n",
    "# np.sort()\n",
    "\n",
    "# it is possible to find the exponential of a matrix using\n",
    "# https://docs.scipy.org/doc/scipy/reference/generated/scipy.linalg.expm.html#scipy.linalg.expm\n",
    "# scipy.linalg.expm()"
   ]
  },
  {
   "cell_type": "markdown",
   "metadata": {},
   "source": [
    "## Question 1\n",
    "\n",
    "For all the graphs in all the examples, which graph contains a path from vertex 1 to vertex 10? What is then the minimum path length? Explain how you computed the answer.\n",
    "\n",
    "## Question 2\n",
    "\n",
    "For each of these graphs, which one contains a rooted-out branching? Why?\n",
    "\n",
    "## Question 3\n",
    "\n",
    "Assume that for each of the four examples, we implement the consensus protocol where the graphs are switching amoung the four possible graphs, one after the other (after graph 6 we switch back to graph 1). Which of these examples will lead to a converging consensus protocol? Why?\n",
    "\n",
    "## Question 4\n",
    "\n",
    "Simulate the consensus protocol for the four switching graphs examples and verify your answer to the previous question (use random initial conditions uniformly distributed between -10 and 10). Assume that the graphs are switching every 0.1 seconds in a first case and every 1 seconds in the second case. Plot the state of every vertex as a function of time in a graph (one graph per example). How is the convergence speed influenced by switching time?"
   ]
  }
 ],
 "metadata": {
  "kernelspec": {
   "display_name": "Python 3",
   "language": "python",
   "name": "python3"
  },
  "language_info": {
   "codemirror_mode": {
    "name": "ipython",
    "version": 3
   },
   "file_extension": ".py",
   "mimetype": "text/x-python",
   "name": "python",
   "nbconvert_exporter": "python",
   "pygments_lexer": "ipython3",
   "version": "3.7.5"
  }
 },
 "nbformat": 4,
 "nbformat_minor": 2
}
